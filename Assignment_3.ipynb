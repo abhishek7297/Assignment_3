{
 "cells": [
  {
   "cell_type": "markdown",
   "id": "b314d6c3",
   "metadata": {},
   "source": [
    "### Q1. Why are functions advantageous to have in your programs?"
   ]
  },
  {
   "cell_type": "markdown",
   "id": "c245cb72",
   "metadata": {},
   "source": [
    "### Ans - \n",
    "\n",
    "Functions allow us to break down a complex program into smaller, manageable modules. Functions promote reusability, as they can be called multiple times from different parts of the program or even in other programs.\n",
    "\n",
    "Functions enable us to write reusable code. Once we define a function, we can use it whenever we need that specific functionality, reducing code duplication."
   ]
  },
  {
   "cell_type": "markdown",
   "id": "ce308fb1",
   "metadata": {},
   "source": [
    "### Q2. When does the code in a function run: when it's specified or when it's called?"
   ]
  },
  {
   "cell_type": "markdown",
   "id": "86037a1f",
   "metadata": {},
   "source": [
    "### Ans -\n",
    "\n",
    "The code in a function runs when the function is called, not when it is specified.\n",
    "\n",
    "Defining a function only sets up the structure and behavior of the function but does not execute the code inside it. The code inside the function is executed when the function is invoked or called."
   ]
  },
  {
   "cell_type": "markdown",
   "id": "3d9add11",
   "metadata": {},
   "source": [
    "### Q3. What statement creates a function?"
   ]
  },
  {
   "cell_type": "markdown",
   "id": "e2b941ec",
   "metadata": {},
   "source": [
    "### Ans - \n",
    " \n",
    "The **def()** statement creates a function."
   ]
  },
  {
   "cell_type": "markdown",
   "id": "b1d6fc07",
   "metadata": {},
   "source": [
    "### 4. What is the difference between a function and a function call?"
   ]
  },
  {
   "cell_type": "markdown",
   "id": "82088d37",
   "metadata": {},
   "source": [
    "### Ans - \n",
    "A function is a block of organized and reusable code that performs a specific task.\n",
    "\n",
    "A function call is an instruction that executes a particular function at a specific point in the program's execution. It invokes the function and provides any necessary arguments or input values. When a function is called, the program jumps to the function definition, executes the code inside the function, and then returns to the point where the function was called."
   ]
  },
  {
   "cell_type": "markdown",
   "id": "4616ee46",
   "metadata": {},
   "source": [
    "### Q5. How many global scopes are there in a Python program? How many local scopes?"
   ]
  },
  {
   "cell_type": "markdown",
   "id": "3026b326",
   "metadata": {},
   "source": [
    "### Ans -\n",
    "In a Python program, there is only one global scope, which is the top-level scope in the program. It is accessible from anywhere in the program and holds variables, functions, and classes defined at the module level.\n",
    "\n",
    "On the other hand, the number of local scopes can vary based on the number of function and class definitions in the program. Each function and method definition creates a new local scope. These local scopes are accessible only within their respective functions or methods."
   ]
  },
  {
   "cell_type": "markdown",
   "id": "2419d8e2",
   "metadata": {},
   "source": [
    "### Q6. What happens to variables in a local scope when the function call returns?"
   ]
  },
  {
   "cell_type": "markdown",
   "id": "3e5ab581",
   "metadata": {},
   "source": [
    "### Ans -\n",
    "When a function call returns, the local variables within the function's scope are typically destroyed or deallocated. The memory space allocated for these local variables is released, and the variables are no longer accessible."
   ]
  },
  {
   "cell_type": "markdown",
   "id": "214cf46b",
   "metadata": {},
   "source": [
    "### Q7. What is the concept of a return value? Is it possible to have a return value in an expression?"
   ]
  },
  {
   "cell_type": "markdown",
   "id": "c5611682",
   "metadata": {},
   "source": [
    "### Ans - \n",
    "When a function is called, it may perform certain operations and compute a result, which can be returned using the return statement.\n",
    "\n",
    "Return can be used in Python like - "
   ]
  },
  {
   "cell_type": "code",
   "execution_count": 4,
   "id": "944425fe",
   "metadata": {},
   "outputs": [
    {
     "name": "stdout",
     "output_type": "stream",
     "text": [
      "7\n"
     ]
    }
   ],
   "source": [
    "def add_num(a,b):\n",
    "    return a+b\n",
    "print(add_num(5,2))"
   ]
  },
  {
   "cell_type": "markdown",
   "id": "00bdae64",
   "metadata": {},
   "source": [
    "### Q8. If a function does not have a return statement, what is the return value of a call to that function?"
   ]
  },
  {
   "cell_type": "markdown",
   "id": "e14acbaa",
   "metadata": {},
   "source": [
    "### Ans -\n",
    "If a function does not have a return statement, or if the return statement is not explicitly specified, the function will still return a value. In Python, the default return value for such functions is None."
   ]
  },
  {
   "cell_type": "code",
   "execution_count": 5,
   "id": "fa27fc25",
   "metadata": {},
   "outputs": [
    {
     "name": "stdout",
     "output_type": "stream",
     "text": [
      "Hello, Alice!\n",
      "None\n"
     ]
    }
   ],
   "source": [
    "def greet(name):\n",
    "    print(\"Hello, \" + name + \"!\")\n",
    "\n",
    "result = greet(\"Alice\")\n",
    "print(result)\n"
   ]
  },
  {
   "cell_type": "markdown",
   "id": "8e047a94",
   "metadata": {},
   "source": [
    "### Q9. How do you make a function variable refer to the global variable?"
   ]
  },
  {
   "cell_type": "markdown",
   "id": "e5cd2704",
   "metadata": {},
   "source": [
    "### Ans- \n",
    "We can use the ''global'' keyword inside the function to indicate that a particular variable is global rather than local. This allows us to access and modify the global variable within the function."
   ]
  },
  {
   "cell_type": "markdown",
   "id": "caa9046e",
   "metadata": {},
   "source": [
    "### 10. What is the data type of None?"
   ]
  },
  {
   "cell_type": "code",
   "execution_count": 3,
   "id": "65ca56ef",
   "metadata": {},
   "outputs": [
    {
     "data": {
      "text/plain": [
       "NoneType"
      ]
     },
     "execution_count": 3,
     "metadata": {},
     "output_type": "execute_result"
    }
   ],
   "source": [
    "type(None)"
   ]
  },
  {
   "cell_type": "markdown",
   "id": "fa8cd158",
   "metadata": {},
   "source": [
    "### Ans -\n",
    "The None value is a special object in Python that represents the absence of a value. It is often used to indicate the lack of a meaningful return value from a function."
   ]
  },
  {
   "cell_type": "markdown",
   "id": "69a4e14a",
   "metadata": {},
   "source": [
    "### Q11. What does the sentence import areallyourpetsnamederic do?"
   ]
  },
  {
   "cell_type": "markdown",
   "id": "cdfc3854",
   "metadata": {},
   "source": [
    "### Ans -\n",
    "It would import the package/module 'areallyourpetsnamederic'. If there is no such package, it will throw an error \"ModuleNotFound\"."
   ]
  },
  {
   "cell_type": "code",
   "execution_count": 6,
   "id": "2dda3297",
   "metadata": {},
   "outputs": [
    {
     "ename": "ModuleNotFoundError",
     "evalue": "No module named 'areallyourpetsnamederic'",
     "output_type": "error",
     "traceback": [
      "\u001b[1;31m---------------------------------------------------------------------------\u001b[0m",
      "\u001b[1;31mModuleNotFoundError\u001b[0m                       Traceback (most recent call last)",
      "\u001b[1;32m~\\AppData\\Local\\Temp\\ipykernel_14840\\51184242.py\u001b[0m in \u001b[0;36m<module>\u001b[1;34m\u001b[0m\n\u001b[1;32m----> 1\u001b[1;33m \u001b[1;32mimport\u001b[0m \u001b[0mareallyourpetsnamederic\u001b[0m\u001b[1;33m\u001b[0m\u001b[1;33m\u001b[0m\u001b[0m\n\u001b[0m",
      "\u001b[1;31mModuleNotFoundError\u001b[0m: No module named 'areallyourpetsnamederic'"
     ]
    }
   ],
   "source": [
    "import areallyourpetsnamederic"
   ]
  },
  {
   "cell_type": "markdown",
   "id": "1c0bf88d",
   "metadata": {},
   "source": [
    "### Q12. If you had a bacon() feature in a spam module, what would you call it after importing spam?"
   ]
  },
  {
   "cell_type": "markdown",
   "id": "24cf71f1",
   "metadata": {},
   "source": [
    "### Ans -\n",
    "spam.bacon()"
   ]
  },
  {
   "cell_type": "markdown",
   "id": "e5723c54",
   "metadata": {},
   "source": [
    "### Q13. What can you do to save a programme from crashing if it encounters an error?"
   ]
  },
  {
   "cell_type": "code",
   "execution_count": null,
   "id": "0d78e803",
   "metadata": {},
   "outputs": [],
   "source": [
    "We can implement error handling mechanisms using exception handling"
   ]
  },
  {
   "cell_type": "markdown",
   "id": "c6767ad3",
   "metadata": {},
   "source": [
    "### Q14. What is the purpose of the try clause? What is the purpose of the except clause?"
   ]
  },
  {
   "cell_type": "markdown",
   "id": "b5bda72b",
   "metadata": {},
   "source": [
    "### Ans - \n",
    "\n",
    "In Python, the try and except clauses are used for error handling and exception handling. They are part of the try-except statement, which allows you to handle potential errors or exceptions that may occur during the execution of your code."
   ]
  }
 ],
 "metadata": {
  "kernelspec": {
   "display_name": "Python 3 (ipykernel)",
   "language": "python",
   "name": "python3"
  },
  "language_info": {
   "codemirror_mode": {
    "name": "ipython",
    "version": 3
   },
   "file_extension": ".py",
   "mimetype": "text/x-python",
   "name": "python",
   "nbconvert_exporter": "python",
   "pygments_lexer": "ipython3",
   "version": "3.9.13"
  }
 },
 "nbformat": 4,
 "nbformat_minor": 5
}
